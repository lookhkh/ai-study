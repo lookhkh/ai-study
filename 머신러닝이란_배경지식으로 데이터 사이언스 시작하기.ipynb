{
 "cells": [
  {
   "cell_type": "markdown",
   "id": "c02f9ebd",
   "metadata": {},
   "source": [
    "#머신러닝\n",
    "## 컴퓨터가 인식하는 방법\n",
    "1. 원천 소스(pattern source, raw data)\n",
    "2. 전처리 : 분류기에 입력 가능하도록 전처리한 데이터\n",
    "3. 부류(class): 학습된 인식 결과 종류\n",
    "4. 분류(classfication) : 기존 학습된 부류(class)에 가깝다고 판단하는 것\n",
    "\n",
    "## 어떻게 분류(claasification) 할 수 있을까?\n",
    "1. 샘플 데이터 수집 및 분류 : raw data를 전처리한 데이터\n",
    "    1. 훈련 집합(training set) : 정답까지 기재된 데이터\n",
    "    2. 테스트 집합(test set) : 정답은 기재되지 않은 데이터.\n",
    "2. 분류기 설계 : 분류 모델 선정(알고리즘 설정), 함수 개발\n",
    "3. 특징 추출 또는 가공(feature engineering)\n",
    "4. 분류기에 샘플을 넣어 학습\n",
    "5. 성능 측정"
   ]
  },
  {
   "cell_type": "code",
   "execution_count": 4,
   "id": "baaa9a6f",
   "metadata": {},
   "outputs": [
    {
     "name": "stdout",
     "output_type": "stream",
     "text": [
      "Requirement already satisfied: scikit-learn in c:\\users\\fbg\\anaconda3\\lib\\site-packages (1.3.0)\n",
      "Collecting scikit-learn\n",
      "  Obtaining dependency information for scikit-learn from https://files.pythonhosted.org/packages/17/1c/ccdd103cfcc9435a18819856fbbe0c20b8fa60bfc3343580de4be13f0668/scikit_learn-1.5.2-cp311-cp311-win_amd64.whl.metadata\n",
      "  Downloading scikit_learn-1.5.2-cp311-cp311-win_amd64.whl.metadata (13 kB)\n",
      "Requirement already satisfied: numpy>=1.19.5 in c:\\users\\fbg\\anaconda3\\lib\\site-packages (from scikit-learn) (1.24.3)\n",
      "Requirement already satisfied: scipy>=1.6.0 in c:\\users\\fbg\\anaconda3\\lib\\site-packages (from scikit-learn) (1.11.1)\n",
      "Requirement already satisfied: joblib>=1.2.0 in c:\\users\\fbg\\anaconda3\\lib\\site-packages (from scikit-learn) (1.2.0)\n",
      "Collecting threadpoolctl>=3.1.0 (from scikit-learn)\n",
      "  Obtaining dependency information for threadpoolctl>=3.1.0 from https://files.pythonhosted.org/packages/4b/2c/ffbf7a134b9ab11a67b0cf0726453cedd9c5043a4fe7a35d1cefa9a1bcfb/threadpoolctl-3.5.0-py3-none-any.whl.metadata\n",
      "  Downloading threadpoolctl-3.5.0-py3-none-any.whl.metadata (13 kB)\n",
      "Downloading scikit_learn-1.5.2-cp311-cp311-win_amd64.whl (11.0 MB)\n",
      "   ---------------------------------------- 0.0/11.0 MB ? eta -:--:--\n",
      "   ---------------------------------------- 0.1/11.0 MB 2.6 MB/s eta 0:00:05\n",
      "   - -------------------------------------- 0.5/11.0 MB 6.0 MB/s eta 0:00:02\n",
      "   --- ------------------------------------ 0.9/11.0 MB 7.5 MB/s eta 0:00:02\n",
      "   ----- ---------------------------------- 1.4/11.0 MB 8.0 MB/s eta 0:00:02\n",
      "   ------ --------------------------------- 1.8/11.0 MB 8.2 MB/s eta 0:00:02\n",
      "   ------- -------------------------------- 2.2/11.0 MB 8.2 MB/s eta 0:00:02\n",
      "   --------- ------------------------------ 2.7/11.0 MB 8.5 MB/s eta 0:00:01\n",
      "   ----------- ---------------------------- 3.0/11.0 MB 8.4 MB/s eta 0:00:01\n",
      "   ------------ --------------------------- 3.4/11.0 MB 8.4 MB/s eta 0:00:01\n",
      "   -------------- ------------------------- 3.9/11.0 MB 8.8 MB/s eta 0:00:01\n",
      "   --------------- ------------------------ 4.3/11.0 MB 8.6 MB/s eta 0:00:01\n",
      "   ---------------- ----------------------- 4.7/11.0 MB 8.5 MB/s eta 0:00:01\n",
      "   ------------------ --------------------- 5.1/11.0 MB 8.8 MB/s eta 0:00:01\n",
      "   -------------------- ------------------- 5.6/11.0 MB 8.7 MB/s eta 0:00:01\n",
      "   --------------------- ------------------ 5.9/11.0 MB 8.6 MB/s eta 0:00:01\n",
      "   ---------------------- ----------------- 6.3/11.0 MB 8.5 MB/s eta 0:00:01\n",
      "   ------------------------ --------------- 6.7/11.0 MB 8.5 MB/s eta 0:00:01\n",
      "   ------------------------- -------------- 7.1/11.0 MB 8.5 MB/s eta 0:00:01\n",
      "   -------------------------- ------------- 7.3/11.0 MB 8.4 MB/s eta 0:00:01\n",
      "   -------------------------- ------------- 7.4/11.0 MB 8.2 MB/s eta 0:00:01\n",
      "   --------------------------- ------------ 7.5/11.0 MB 7.9 MB/s eta 0:00:01\n",
      "   ---------------------------- ----------- 7.9/11.0 MB 7.8 MB/s eta 0:00:01\n",
      "   ----------------------------- ---------- 8.1/11.0 MB 7.7 MB/s eta 0:00:01\n",
      "   ------------------------------ --------- 8.4/11.0 MB 7.7 MB/s eta 0:00:01\n",
      "   ------------------------------- -------- 8.7/11.0 MB 7.6 MB/s eta 0:00:01\n",
      "   -------------------------------- ------- 9.1/11.0 MB 7.6 MB/s eta 0:00:01\n",
      "   ---------------------------------- ----- 9.5/11.0 MB 7.6 MB/s eta 0:00:01\n",
      "   ----------------------------------- ---- 9.8/11.0 MB 7.6 MB/s eta 0:00:01\n",
      "   ------------------------------------- -- 10.2/11.0 MB 7.7 MB/s eta 0:00:01\n",
      "   -------------------------------------- - 10.6/11.0 MB 7.8 MB/s eta 0:00:01\n",
      "   ---------------------------------------  11.0/11.0 MB 7.8 MB/s eta 0:00:01\n",
      "   ---------------------------------------  11.0/11.0 MB 7.8 MB/s eta 0:00:01\n",
      "   ---------------------------------------- 11.0/11.0 MB 7.4 MB/s eta 0:00:00\n",
      "Downloading threadpoolctl-3.5.0-py3-none-any.whl (18 kB)\n",
      "Installing collected packages: threadpoolctl, scikit-learn\n",
      "  Attempting uninstall: threadpoolctl\n",
      "    Found existing installation: threadpoolctl 2.2.0\n",
      "    Uninstalling threadpoolctl-2.2.0:\n",
      "      Successfully uninstalled threadpoolctl-2.2.0\n",
      "  Attempting uninstall: scikit-learn\n",
      "    Found existing installation: scikit-learn 1.3.0\n",
      "    Uninstalling scikit-learn-1.3.0:\n",
      "      Successfully uninstalled scikit-learn-1.3.0\n",
      "Successfully installed scikit-learn-1.5.2 threadpoolctl-3.5.0\n"
     ]
    }
   ],
   "source": [
    "!pip install -U scikit-learn"
   ]
  },
  {
   "cell_type": "code",
   "execution_count": 7,
   "id": "21de48e9",
   "metadata": {},
   "outputs": [],
   "source": [
    "from sklearn.datasets import load_digits\n",
    "digits = load_digits()\n"
   ]
  },
  {
   "cell_type": "code",
   "execution_count": 14,
   "id": "8c0337f0",
   "metadata": {},
   "outputs": [],
   "source": [
    "from sklearn.model_selection import train_test_split\n",
    "X_train, X_test, y_train, y_test = train_test_split(digits.data, digits.target)"
   ]
  },
  {
   "cell_type": "code",
   "execution_count": 20,
   "id": "89f9d084",
   "metadata": {},
   "outputs": [
    {
     "name": "stdout",
     "output_type": "stream",
     "text": [
      "GaussianNB()\n"
     ]
    }
   ],
   "source": [
    "from sklearn.naive_bayes import GaussianNB\n",
    "\n",
    "models = GaussianNB()\n",
    "\n",
    "print(models)"
   ]
  },
  {
   "cell_type": "code",
   "execution_count": 30,
   "id": "7ee90e7d",
   "metadata": {},
   "outputs": [
    {
     "name": "stdout",
     "output_type": "stream",
     "text": [
      "[0 4 8 8 4 6 1 9 8 7 4 7 8 1 3 8 8 4 4 0 8 1 8 8 4 4 7 3 7 9 6 4 1 8 8 8 9\n",
      " 0 7 7 9 7 6 5 0 8 6 8 2 5 8 5 1 8 0 2 7 7 2 6 5 4 7 6 8 1 5 6 6 7 6 5 9 7\n",
      " 8 5 3 7 9 1 8 5 0 1 3 8 7 0 9 8 1 8 4 6 4 8 5 3 8 1 4 7 2 4 7 1 9 6 8 8 8\n",
      " 9 4 0 4 5 8 6 9 7 7 4 0 7 0 4 8 6 9 6 9 6 7 9 8 2 9 9 5 7 6 8 8 7 5 9 6 6\n",
      " 4 8 1 9 7 1 2 9 8 7 8 8 7 9 7 5 8 1 8 5 4 9 4 0 5 6 7 2 3 4 7 7 3 4 6 3 8\n",
      " 8 7 0 8 1 5 5 7 7 8 5 7 4 8 1 0 8 8 8 1 5 5 9 8 0 9 8 7 7 7 8 7 5 7 8 9 3\n",
      " 4 8 5 7 0 3 5 8 5 4 9 4 8 4 9 4 3 8 0 8 7 8 8 9 7 3 2 6 7 8 6 7 1 8 2 8 6\n",
      " 3 7 5 6 3 0 5 8 3 6 5 8 5 9 8 9 8 3 5 6 1 8 2 8 4 8 3 4 6 3 5 7 0 2 4 0 8\n",
      " 3 8 5 1 6 4 8 4 0 7 5 0 4 8 2 0 0 4 9 3 9 2 0 7 8 9 9 5 7 8 0 3 4 8 7 1 3\n",
      " 6 1 4 9 5 8 9 6 8 8 0 6 5 7 0 6 2 7 8 7 7 5 4 7 3 4 8 6 7 6 2 9 9 6 3 8 6\n",
      " 4 0 9 9 8 3 8 8 7 2 0 6 2 7 2 7 0 0 6 9 6 2 9 1 5 4 9 6 5 5 7 0 9 7 2 8 8\n",
      " 5 5 7 8 8 9 7 4 0 6 5 0 5 8 1 8 5 8 0 5 8 8 8 8 0 8 1 6 5 6 8 8 7 1 0 9 4\n",
      " 6 6 1 7 5 3]\n",
      "\n",
      "[0 4 8 9 4 6 1 9 8 7 4 1 9 1 3 2 8 4 4 0 1 1 1 9 4 4 7 3 7 9 6 4 1 1 8 1 9\n",
      " 0 4 7 9 7 6 5 0 2 6 3 2 5 3 5 9 8 0 2 7 7 3 6 5 4 1 6 2 1 5 6 6 7 6 5 9 4\n",
      " 8 5 3 7 9 1 1 6 0 1 3 9 7 0 1 5 2 0 4 6 4 5 5 3 3 2 4 7 2 4 7 1 9 6 2 0 8\n",
      " 5 4 0 4 5 2 1 9 7 7 4 0 7 0 4 2 6 9 6 9 6 7 9 8 2 9 9 5 7 6 8 8 7 5 9 9 6\n",
      " 4 8 8 9 9 1 8 1 3 7 8 8 7 3 4 5 5 9 2 5 4 1 4 0 5 6 7 2 3 4 4 5 3 4 6 3 8\n",
      " 1 7 0 8 1 5 5 9 7 1 5 7 4 2 1 0 3 3 8 1 5 5 9 9 0 9 1 7 4 7 7 7 5 7 3 9 3\n",
      " 4 8 5 7 0 3 3 8 5 4 9 4 8 4 5 4 3 2 0 3 7 3 1 9 7 3 2 6 7 1 6 7 1 0 2 3 6\n",
      " 3 4 5 6 3 0 5 8 3 5 7 1 5 9 8 9 8 3 5 6 1 8 2 8 4 3 3 4 6 3 5 7 0 2 4 0 3\n",
      " 3 3 5 1 6 4 9 4 0 7 5 0 4 3 2 0 0 4 9 3 9 2 0 7 2 9 1 5 7 1 0 3 4 1 7 1 3\n",
      " 6 1 4 9 4 1 9 6 3 8 0 6 5 7 0 6 2 7 8 7 7 5 4 7 3 4 8 6 9 6 2 9 9 6 3 2 6\n",
      " 4 0 9 9 4 3 8 2 9 2 0 6 8 7 2 7 0 0 6 9 6 2 9 1 5 4 1 6 9 5 7 0 9 7 2 3 3\n",
      " 5 5 7 8 8 9 7 4 0 6 5 0 5 3 1 8 5 8 0 0 8 4 5 8 0 2 1 6 5 6 8 8 7 1 0 9 4\n",
      " 6 6 8 9 3 3]\n",
      "75.0\n"
     ]
    }
   ],
   "source": [
    "models.fit(X_train, y_train)\n",
    "predicted = models.predict(X_test)\n",
    "\n",
    "print(predicted)\n",
    "print()\n",
    "print(y_test)\n",
    "\n",
    "whole = 64\n",
    "trueNum = 0\n",
    "for i in range(whole):\n",
    "    if(predicted[i]==y_test[i]):\n",
    "        trueNum+=1\n",
    "print( (trueNum / whole) * 100 )"
   ]
  },
  {
   "cell_type": "markdown",
   "id": "3c1fa562",
   "metadata": {},
   "source": [
    "# 결국은 수학!\n",
    "# 하지만, 조급해하지 말고 천천히"
   ]
  }
 ],
 "metadata": {
  "kernelspec": {
   "display_name": "Python 3 (ipykernel)",
   "language": "python",
   "name": "python3"
  },
  "language_info": {
   "codemirror_mode": {
    "name": "ipython",
    "version": 3
   },
   "file_extension": ".py",
   "mimetype": "text/x-python",
   "name": "python",
   "nbconvert_exporter": "python",
   "pygments_lexer": "ipython3",
   "version": "3.11.5"
  }
 },
 "nbformat": 4,
 "nbformat_minor": 5
}
