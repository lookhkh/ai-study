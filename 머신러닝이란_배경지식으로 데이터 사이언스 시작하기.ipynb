{
 "cells": [
  {
   "cell_type": "markdown",
   "id": "f893b5f3",
   "metadata": {},
   "source": [
    "#머신러닝\n",
    "## 컴퓨터가 인식하는 방법\n",
    "1. 원천 소스(pattern source, raw data)\n",
    "2. 전처리 : 분류기에 입력 가능하도록 전처리한 데이터\n",
    "3. 부류(class): 학습된 인식 결과 종류\n",
    "4. 분류(classfication) : 기존 학습된 부류(class)에 가깝다고 판단하는 것\n",
    "\n",
    "## 어떻게 분류(claasification) 할 수 있을까?\n",
    "1. 샘플 데이터 수집 및 분류 : raw data를 전처리한 데이터\n",
    "    1. 훈련 집합(training set) : 정답까지 기재된 데이터\n",
    "    2. 테스트 집합(test set) : 정답은 기재되지 않은 데이터.\n",
    "2. 분류기 설계 : 분류 모델 선정(알고리즘 설정), 함수 개발\n",
    "3. 특징 추출 또는 가공(feature engineering)\n",
    "4. 분류기에 샘플을 넣어 학습\n",
    "5. "
   ]
  },
  {
   "cell_type": "code",
   "execution_count": null,
   "id": "baaa9a6f",
   "metadata": {},
   "outputs": [],
   "source": []
  }
 ],
 "metadata": {
  "kernelspec": {
   "display_name": "Python 3 (ipykernel)",
   "language": "python",
   "name": "python3"
  },
  "language_info": {
   "codemirror_mode": {
    "name": "ipython",
    "version": 3
   },
   "file_extension": ".py",
   "mimetype": "text/x-python",
   "name": "python",
   "nbconvert_exporter": "python",
   "pygments_lexer": "ipython3",
   "version": "3.11.5"
  }
 },
 "nbformat": 4,
 "nbformat_minor": 5
}
