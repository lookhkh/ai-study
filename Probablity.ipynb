{
 "cells": [
  {
   "cell_type": "markdown",
   "id": "06e49c42",
   "metadata": {},
   "source": [
    "# 확률\n",
    "1. P(X=3) = 1/6 (주사위를 던졌을 때, 3이 나올 확률)\n",
    "\n",
    "# 조건부 확률\n",
    "1. P(A|B) : B가 일어났을 때, A가 일어날 확률 \n",
    "    1.1 P(A|B) = P(AnB) / P(B)\n",
    "# 결합확률\n",
    "1. 두 가지 사건이 동시에 일어날 확률\n",
    "2. P(A,B) = P(A) X P(A|B)\n",
    "\n"
   ]
  },
  {
   "cell_type": "code",
   "execution_count": null,
   "id": "67c209ef",
   "metadata": {},
   "outputs": [],
   "source": []
  }
 ],
 "metadata": {
  "kernelspec": {
   "display_name": "Python 3 (ipykernel)",
   "language": "python",
   "name": "python3"
  },
  "language_info": {
   "codemirror_mode": {
    "name": "ipython",
    "version": 3
   },
   "file_extension": ".py",
   "mimetype": "text/x-python",
   "name": "python",
   "nbconvert_exporter": "python",
   "pygments_lexer": "ipython3",
   "version": "3.11.5"
  }
 },
 "nbformat": 4,
 "nbformat_minor": 5
}
